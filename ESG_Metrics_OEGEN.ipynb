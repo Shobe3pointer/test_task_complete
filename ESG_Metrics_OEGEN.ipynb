{
  "nbformat": 4,
  "nbformat_minor": 0,
  "metadata": {
    "colab": {
      "provenance": [],
      "history_visible": true
    },
    "kernelspec": {
      "name": "python3",
      "display_name": "Python 3"
    },
    "language_info": {
      "name": "python"
    }
  },
  "cells": [
    {
      "cell_type": "markdown",
      "source": [
        "# Task 1 SQL"
      ],
      "metadata": {
        "id": "Quo-6HIfhVA3"
      }
    },
    {
      "cell_type": "markdown",
      "source": [
        "Load libraries and packages"
      ],
      "metadata": {
        "id": "vAwK7h_ywF0X"
      }
    },
    {
      "cell_type": "code",
      "execution_count": 3,
      "metadata": {
        "id": "PQHC8j0ujrmU"
      },
      "outputs": [],
      "source": [
        "#import libraries\n",
        "import sqlite3\n",
        "import pandas as pd"
      ]
    },
    {
      "cell_type": "markdown",
      "source": [
        "Data ingestion into notebook"
      ],
      "metadata": {
        "id": "w-_3sRFwjtR4"
      }
    },
    {
      "cell_type": "code",
      "source": [
        "#load csv files\n",
        "esg_metrics = pd.read_csv('/content/OEGEN/data_files/esg_metrics.csv')\n",
        "fund_names = pd.read_csv('/content/OEGEN/data_files/fund_names.csv')\n",
        "mod_pro_data = pd.read_csv('/content/OEGEN/data_files/modified_production_data_subset.csv')\n",
        "site_details = pd.read_csv('/content/OEGEN/data_files/site_details.csv')\n",
        "site_fund_os_perc = pd.read_csv('/content/OEGEN/data_files/site_fund_ownership_percentage.csv')"
      ],
      "metadata": {
        "id": "IwRfpTXioy3P"
      },
      "execution_count": 5,
      "outputs": []
    },
    {
      "cell_type": "markdown",
      "source": [
        "Below script analyses data to check for nulls, inspect data types and inspect columns"
      ],
      "metadata": {
        "id": "HNC8rdrwbeSr"
      }
    },
    {
      "cell_type": "code",
      "source": [
        "def info(df):\n",
        "  return_info = df.info()\n",
        "  first_five = df.head()\n",
        "  return_null = df.isnull().sum()\n",
        "  return return_info, first_five, return_null\n",
        "\n",
        "print(info(esg_metrics))\n"
      ],
      "metadata": {
        "colab": {
          "base_uri": "https://localhost:8080/"
        },
        "id": "L-mUzmYR2ixE",
        "outputId": "73c0e5fd-46c7-4ec7-a51d-e75da64f276b"
      },
      "execution_count": null,
      "outputs": [
        {
          "output_type": "stream",
          "name": "stdout",
          "text": [
            "<class 'pandas.core.frame.DataFrame'>\n",
            "RangeIndex: 1032 entries, 0 to 1031\n",
            "Data columns (total 8 columns):\n",
            " #   Column        Non-Null Count  Dtype         \n",
            "---  ------        --------------  -----         \n",
            " 0   metric_id     1032 non-null   object        \n",
            " 1   metric_name   1032 non-null   object        \n",
            " 2   technology    1032 non-null   object        \n",
            " 3   country       1032 non-null   object        \n",
            " 4   metric_value  1032 non-null   float64       \n",
            " 5   metric_unit   1032 non-null   object        \n",
            " 6   source        1032 non-null   object        \n",
            " 7   created_at    1032 non-null   datetime64[ns]\n",
            "dtypes: datetime64[ns](1), float64(1), object(6)\n",
            "memory usage: 64.6+ KB\n",
            "(None,   metric_id                           metric_name technology    country  \\\n",
            "0      ESG1  Average Household Energy Consumption    Unknown  Australia   \n",
            "1      ESG2  Average Household Energy Consumption    Unknown    Austria   \n",
            "2      ESG3  Average Household Energy Consumption    Unknown    Belgium   \n",
            "3      ESG4  Average Household Energy Consumption    Unknown   Bulgaria   \n",
            "4      ESG5  Average Household Energy Consumption    Unknown    Croatia   \n",
            "\n",
            "   metric_value metric_unit   source          created_at  \n",
            "0         5.825         MWh     AEMC 2024-07-03 00:31:12  \n",
            "1         5.046         MWh  Odyssee 2024-07-03 00:31:12  \n",
            "2         3.847         MWh  Odyssee 2024-07-03 00:31:12  \n",
            "3         4.061         MWh  Odyssee 2024-07-03 00:31:12  \n",
            "4         4.331         MWh  Odyssee 2024-07-03 00:31:12  , metric_id       0\n",
            "metric_name     0\n",
            "technology      0\n",
            "country         0\n",
            "metric_value    0\n",
            "metric_unit     0\n",
            "source          0\n",
            "created_at      0\n",
            "dtype: int64)\n"
          ]
        }
      ]
    },
    {
      "cell_type": "markdown",
      "source": [
        "### Data overview\n",
        "esg_metrics type/ null count:\n",
        "*   metric_id: object/ 0\n",
        "*   metric_name: object/ 0\n",
        "*   technology: object/ 136\n",
        "*   country: object/ 8\n",
        "*   metric_value: object/ 0\n",
        "*   metric_unit: object/ 0\n",
        "*   source: object/ 0\n",
        "*   created_at: object/ 0\n",
        "\n",
        "\n",
        "fund_names type/ null count:\n",
        "*   fund_id: int/ 0\n",
        "*   fund_name: object/ 0\n",
        "\n",
        "mod_pro_data type/ null count:\n",
        "*   site_id: float64/ 1905\n",
        "*   report_date: object/ 0\n",
        "*   actual_production: float64/ 29\n",
        "\n",
        "site_details type/ null count:\n",
        "*   site_id: int/ 0\n",
        "*   technology: object/ 0\n",
        "*   country: object/ 0\n",
        "*   latitude: float/ 43\n",
        "*   longitude: float/ 43\n",
        "*   asset_phase: object/ 21\n",
        "\n",
        "site_fund_os_perc type/ null count:\n",
        "*   site_id: int/ 0\n",
        "*   fund_id: int/ 0\n",
        "*   fund_ownership: float/ 0"
      ],
      "metadata": {
        "id": "uijAdjca5C3W"
      }
    },
    {
      "cell_type": "markdown",
      "source": [
        "## Data cleaning and processing"
      ],
      "metadata": {
        "id": "I0ZGAaTYhrwm"
      }
    },
    {
      "cell_type": "code",
      "source": [
        "#clean null values and correct data types\n",
        "#esg_metrics table\n",
        "esg_metrics['technology'].fillna('Unknown', inplace=True)\n",
        "esg_metrics['country'].fillna('Unknown', inplace=True)\n",
        "esg_metrics['created_at'] = pd.to_datetime(esg_metrics['created_at'])\n",
        "\n",
        "#mod_pro_data\n",
        "#drop null\n",
        "mod_pro_data.dropna(subset=['site_id'], inplace=True)\n",
        "#change data type to string\n",
        "mod_pro_data['site_id'] = mod_pro_data['site_id'].astype(int).astype(str)\n",
        "#change data type to date\n",
        "mod_pro_data['report_date'] = pd.to_datetime(mod_pro_data['report_date'])\n",
        "#new column of average actual production per site id\n",
        "mod_pro_data['avg_ap'] = mod_pro_data.groupby([mod_pro_data['site_id'], mod_pro_data['report_date'].dt.year])['actual_production'].transform('mean')\n",
        "#fill empty cells for actuall production\n",
        "mod_pro_data['actual_production'].fillna(mod_pro_data['avg_ap'], inplace=True)\n",
        "#fill any existing empty entries with 0\n",
        "mod_pro_data['actual_production'].fillna(0, inplace=True)\n",
        "#drop the avg_ap column\n",
        "mod_pro_data.drop(columns=['avg_ap'],inplace=True)\n",
        "\n",
        "#site_details\n",
        "#fill missing lat and long values\n",
        "site_details.sort_values(by='country', inplace=True)\n",
        "#create function to fill empty cells by country (approx lat and long)\n",
        "def fill_miss(group):\n",
        "  group['latitude'] = group['latitude'].fillna(method='ffill')\n",
        "  group['longitude'] = group['longitude'].fillna(method='ffill')\n",
        "  return group\n",
        "#fill lat and long by country\n",
        "site_details = site_details.groupby('country').apply(fill_miss)\n",
        "#reset index from groupby\n",
        "site_details.reset_index(drop=True, inplace=True)\n",
        "#describe asset phase for site details\n",
        "site_details['asset_phase'].fillna('Unknown', inplace=True)\n",
        "#change site_id data type to string\n",
        "site_details['site_id'] = site_details['site_id'].astype(str)\n",
        "\n",
        "#site_fund_os_perc\n",
        "#change site_id and fund_id to string\n",
        "site_fund_os_perc['site_id'] = site_fund_os_perc['site_id'].astype(str)\n",
        "site_fund_os_perc['fund_id'] = site_fund_os_perc['fund_id'].astype(str)\n",
        "\n",
        "#fund_names\n",
        "#change fund_id to string\n",
        "fund_names['fund_id'] = fund_names['fund_id'].astype(str)"
      ],
      "metadata": {
        "colab": {
          "base_uri": "https://localhost:8080/"
        },
        "id": "oJFIEA-3Xiqf",
        "outputId": "0fb89a4a-99e1-4b13-ce32-da5a7e4329d7"
      },
      "execution_count": 6,
      "outputs": [
        {
          "output_type": "stream",
          "name": "stderr",
          "text": [
            "<ipython-input-6-500b0c921027>:5: UserWarning: Could not infer format, so each element will be parsed individually, falling back to `dateutil`. To ensure parsing is consistent and as-expected, please specify a format.\n",
            "  esg_metrics['created_at'] = pd.to_datetime(esg_metrics['created_at'])\n"
          ]
        }
      ]
    },
    {
      "cell_type": "markdown",
      "source": [
        "## Convert dataframe to SQL tables"
      ],
      "metadata": {
        "id": "RTMIsP4goZ5M"
      }
    },
    {
      "cell_type": "code",
      "source": [
        "#create connection to sqlite db\n",
        "conn = sqlite3.connect('esg_database.db')\n",
        "\n",
        "esg_metrics.to_sql('esg_metrics_sql', conn, if_exists = 'replace', index=False)\n",
        "fund_names.to_sql('fund_names_sql', conn, if_exists = 'replace', index=False)\n",
        "mod_pro_data.to_sql('mod_pro_data_sql', conn, if_exists = 'replace', index=False)\n",
        "site_details.to_sql('site_details_sql', conn, if_exists = 'replace', index=False)\n",
        "site_fund_os_perc.to_sql('site_fund_os_perc_sql', conn, if_exists = 'replace', index=False)\n",
        "\n",
        "conn.close()"
      ],
      "metadata": {
        "id": "hvUmGokwj8lS"
      },
      "execution_count": 7,
      "outputs": []
    },
    {
      "cell_type": "markdown",
      "source": [
        "Test database connection with simple query"
      ],
      "metadata": {
        "id": "qkjvLJ8AwLkC"
      }
    },
    {
      "cell_type": "code",
      "source": [
        "conn = sqlite3.connect('esg_database.db')\n",
        "\n",
        "query = '''\n",
        "SELECT *\n",
        "FROM esg_metrics_sql\n",
        "LIMIT 10\n",
        "'''\n",
        "df=pd.read_sql(query,conn)\n",
        "print(df)"
      ],
      "metadata": {
        "colab": {
          "base_uri": "https://localhost:8080/"
        },
        "collapsed": true,
        "id": "7eYXxM9vwDFh",
        "outputId": "7b3aec49-6455-4a65-c98f-286399b1c926"
      },
      "execution_count": null,
      "outputs": [
        {
          "output_type": "stream",
          "name": "stdout",
          "text": [
            "  metric_id                           metric_name technology         country  \\\n",
            "0      ESG1  Average Household Energy Consumption    Unknown       Australia   \n",
            "1      ESG2  Average Household Energy Consumption    Unknown         Austria   \n",
            "2      ESG3  Average Household Energy Consumption    Unknown         Belgium   \n",
            "3      ESG4  Average Household Energy Consumption    Unknown        Bulgaria   \n",
            "4      ESG5  Average Household Energy Consumption    Unknown         Croatia   \n",
            "5      ESG6  Average Household Energy Consumption    Unknown          Cyprus   \n",
            "6      ESG7  Average Household Energy Consumption    Unknown  Czech Republic   \n",
            "7      ESG8  Average Household Energy Consumption    Unknown         Denmark   \n",
            "8      ESG9  Average Household Energy Consumption    Unknown         Estonia   \n",
            "9     ESG10  Average Household Energy Consumption    Unknown         Finland   \n",
            "\n",
            "   metric_value metric_unit   source created_at  \n",
            "0         5.825         MWh     AEMC    00:31.2  \n",
            "1         5.046         MWh  Odyssee    00:31.2  \n",
            "2         3.847         MWh  Odyssee    00:31.2  \n",
            "3         4.061         MWh  Odyssee    00:31.2  \n",
            "4         4.331         MWh  Odyssee    00:31.2  \n",
            "5         4.790         MWh  Odyssee    00:31.2  \n",
            "6         3.853         MWh  Odyssee    00:31.2  \n",
            "7         3.742         MWh  Odyssee    00:31.2  \n",
            "8         3.240         MWh  Odyssee    00:31.2  \n",
            "9         8.125         MWh  Odyssee    00:31.2  \n"
          ]
        }
      ]
    },
    {
      "cell_type": "markdown",
      "source": [
        "Create single table for ESG reference metrics and question 2 answer"
      ],
      "metadata": {
        "id": "Kq8BMZDvaVTY"
      }
    },
    {
      "cell_type": "code",
      "source": [
        "conn = sqlite3.connect('esg_database.db')\n",
        "\n",
        "# Create the table with the results from the query\n",
        "create_table_query = '''\n",
        "CREATE TABLE esg_metrics_table AS\n",
        "SELECT\n",
        "    sd.site_id,\n",
        "    sd.technology,\n",
        "    sd.country,\n",
        "    fn.fund_name,\n",
        "    po.report_date,\n",
        "    po.scaled_production AS actual_production,\n",
        "    em.carbon_avoided_gco2_kwh,\n",
        "    (po.scaled_production * (em.carbon_avoided_gco2_kwh / 1000)) AS tonnes_carbon_avoided,\n",
        "    sd.latitude,\n",
        "    sd.longitude\n",
        "FROM\n",
        "    site_details_sql sd\n",
        "JOIN\n",
        "    (\n",
        "        SELECT\n",
        "            pd.site_id,\n",
        "            pd.report_date,\n",
        "            pd.actual_production * os.fund_ownership AS scaled_production,\n",
        "            os.fund_id\n",
        "        FROM\n",
        "            mod_pro_data_sql pd\n",
        "        JOIN\n",
        "            site_fund_os_perc_sql os ON pd.site_id = os.site_id\n",
        "    ) po ON sd.site_id = po.site_id\n",
        "JOIN\n",
        "    (\n",
        "        SELECT\n",
        "            em.technology,\n",
        "            em.country,\n",
        "            em.metric_value AS carbon_avoided_gco2_kwh,\n",
        "            em.created_at\n",
        "        FROM\n",
        "            esg_metrics_sql em\n",
        "        JOIN\n",
        "            (\n",
        "                SELECT\n",
        "                    technology,\n",
        "                    country,\n",
        "                    MAX(created_at) as latest_date\n",
        "                FROM\n",
        "                    esg_metrics_sql\n",
        "                WHERE\n",
        "                    metric_name = 'Carbon Avoided'\n",
        "                GROUP BY\n",
        "                    technology, country\n",
        "            ) lem ON em.technology = lem.technology\n",
        "                   AND em.country = lem.country\n",
        "                   AND em.created_at = lem.latest_date\n",
        "    ) em ON (sd.technology = em.technology OR em.technology IS NULL)\n",
        "          AND (sd.country = em.country OR em.country IS NULL)\n",
        "JOIN\n",
        "    fund_names_sql fn ON po.fund_id = fn.fund_id\n",
        "'''\n",
        "\n",
        "# Execute the query to create the table\n",
        "conn.execute(create_table_query)\n",
        "conn.commit()\n",
        "\n",
        "# Verify the table creation by fetching the first few rows\n",
        "#df = pd.read_sql('SELECT * FROM esg_metrics_table LIMIT 5', conn)\n",
        "#print(df.head())\n",
        "\n",
        "create_avg_offset_grnd_mnt_slr = '''\n",
        "CREATE TABLE avg_offset_ground_mount_solar AS\n",
        "SELECT\n",
        "    fund_name,\n",
        "    FinalESGTable.Technology,\n",
        "    AVG(tonnes_carbon_avoided) AS average_tonnes_carbon_avoided\n",
        "FROM\n",
        "    (\n",
        "        SELECT\n",
        "            sd.site_id,\n",
        "            sd.technology,\n",
        "            sd.country,\n",
        "            fn.fund_name,\n",
        "            po.report_date,\n",
        "            po.scaled_production,\n",
        "            em.carbon_avoided_gco2_kwh,\n",
        "            (po.scaled_production * (em.carbon_avoided_gco2_kwh / 1000)) AS tonnes_carbon_avoided\n",
        "        FROM\n",
        "            site_details_sql sd\n",
        "        JOIN\n",
        "            (\n",
        "                SELECT\n",
        "                    pd.site_id,\n",
        "                    pd.report_date,\n",
        "                    pd.actual_production * os.fund_ownership AS scaled_production,\n",
        "                    os.fund_id\n",
        "                FROM\n",
        "                    mod_pro_data_sql pd\n",
        "                JOIN\n",
        "                    site_fund_os_perc_sql os\n",
        "                ON\n",
        "                    pd.site_id = os.site_id\n",
        "            ) po\n",
        "        ON\n",
        "            sd.site_id = po.site_id\n",
        "        JOIN\n",
        "            (\n",
        "                SELECT\n",
        "                    em.technology,\n",
        "                    em.country,\n",
        "                    em.metric_value AS carbon_avoided_gco2_kwh,\n",
        "                    em.created_at\n",
        "                FROM\n",
        "                    esg_metrics_sql em\n",
        "                JOIN\n",
        "                    (\n",
        "                        SELECT\n",
        "                            em_sub.technology,\n",
        "                            em_sub.country,\n",
        "                            MAX(em_sub.created_at) as latest_date\n",
        "                        FROM\n",
        "                            esg_metrics_sql em_sub\n",
        "                        WHERE\n",
        "                            em_sub.metric_name = 'Carbon Avoided'\n",
        "                        GROUP BY\n",
        "                            em_sub.technology, em_sub.country\n",
        "                    ) lem\n",
        "                ON\n",
        "                    em.technology = lem.technology\n",
        "                    AND em.country = lem.country\n",
        "                    AND em.created_at = lem.latest_date\n",
        "            ) em\n",
        "        ON\n",
        "            (sd.technology = em.technology OR em.technology IS NULL)\n",
        "            AND (sd.Country = em.country OR em.country IS NULL)\n",
        "        JOIN\n",
        "            fund_names_sql fn\n",
        "        ON\n",
        "            po.fund_id = fn.fund_id\n",
        "        WHERE\n",
        "            sd.technology = 'Ground mount solar'\n",
        "            AND po.Report_date BETWEEN '2023-01-01' AND '2023-03-31'\n",
        "    ) FinalESGTable\n",
        "GROUP BY\n",
        "    fund_name,\n",
        "    FinalESGTable.Technology\n",
        "'''\n",
        "\n",
        "#Execute the query to create the table\n",
        "conn.execute(create_avg_offset_grnd_mnt_slr)\n",
        "conn.commit()\n",
        "\n",
        "#Verify the table creation by fetching the first few rows, testing\n",
        "#df_avg = pd.read_sql('SELECT * FROM avg_offset_ground_mount_solar' LIMIT 5, conn)\n",
        "#print(df_avg.head())\n",
        "\n",
        "#Close connection\n",
        "conn.close()"
      ],
      "metadata": {
        "colab": {
          "base_uri": "https://localhost:8080/",
          "height": 216
        },
        "id": "pdaZzea_oeXM",
        "outputId": "6427fe7f-9154-4788-be5e-4f1f1ca66624"
      },
      "execution_count": 9,
      "outputs": [
        {
          "output_type": "error",
          "ename": "OperationalError",
          "evalue": "table esg_metrics_table already exists",
          "traceback": [
            "\u001b[0;31m---------------------------------------------------------------------------\u001b[0m",
            "\u001b[0;31mOperationalError\u001b[0m                          Traceback (most recent call last)",
            "\u001b[0;32m<ipython-input-9-8fe9636f97ab>\u001b[0m in \u001b[0;36m<cell line: 62>\u001b[0;34m()\u001b[0m\n\u001b[1;32m     60\u001b[0m \u001b[0;34m\u001b[0m\u001b[0m\n\u001b[1;32m     61\u001b[0m \u001b[0;31m# Execute the query to create the table\u001b[0m\u001b[0;34m\u001b[0m\u001b[0;34m\u001b[0m\u001b[0m\n\u001b[0;32m---> 62\u001b[0;31m \u001b[0mconn\u001b[0m\u001b[0;34m.\u001b[0m\u001b[0mexecute\u001b[0m\u001b[0;34m(\u001b[0m\u001b[0mcreate_table_query\u001b[0m\u001b[0;34m)\u001b[0m\u001b[0;34m\u001b[0m\u001b[0;34m\u001b[0m\u001b[0m\n\u001b[0m\u001b[1;32m     63\u001b[0m \u001b[0mconn\u001b[0m\u001b[0;34m.\u001b[0m\u001b[0mcommit\u001b[0m\u001b[0;34m(\u001b[0m\u001b[0;34m)\u001b[0m\u001b[0;34m\u001b[0m\u001b[0;34m\u001b[0m\u001b[0m\n\u001b[1;32m     64\u001b[0m \u001b[0;34m\u001b[0m\u001b[0m\n",
            "\u001b[0;31mOperationalError\u001b[0m: table esg_metrics_table already exists"
          ]
        }
      ]
    },
    {
      "cell_type": "markdown",
      "source": [
        "## Question 1 - Task 1"
      ],
      "metadata": {
        "id": "_1z_wsR5cKPK"
      }
    },
    {
      "cell_type": "code",
      "source": [
        "conn = sqlite3.connect('esg_database.db')\n",
        "\n",
        "#Answer\n",
        "df_avg = pd.read_sql('SELECT * FROM avg_offset_ground_mount_solar', conn)\n",
        "print(df_avg)\n",
        "\n",
        "conn.close()"
      ],
      "metadata": {
        "colab": {
          "base_uri": "https://localhost:8080/"
        },
        "id": "NxKE6Pfxb8pG",
        "outputId": "41ffe9e9-e39b-4604-bf6c-227f1b95322c"
      },
      "execution_count": 10,
      "outputs": [
        {
          "output_type": "stream",
          "name": "stdout",
          "text": [
            "    fund_name          technology  average_tonnes_carbon_avoided\n",
            "0      Banana  Ground mount solar                     380.216831\n",
            "1       Grape  Ground mount solar                   30173.185169\n",
            "2  Indian Fig  Ground mount solar                     264.945957\n",
            "3   Jackfruit  Ground mount solar                     293.562619\n",
            "4        Kiwi  Ground mount solar                     225.762768\n",
            "5       Lemon  Ground mount solar                     210.146379\n"
          ]
        }
      ]
    },
    {
      "cell_type": "markdown",
      "source": [
        "## Export SQL Database to CSV for use in Power BI"
      ],
      "metadata": {
        "id": "2ZVCnW8DcSxa"
      }
    },
    {
      "cell_type": "code",
      "source": [
        "#SQL database to CSV\n",
        "conn = sqlite3.connect('esg_database.db')\n",
        "\n",
        "esg_csv = pd.read_sql('SELECT * FROM esg_metrics_table', conn)\n",
        "esg_csv.to_csv('esg_metrics_final.csv', index=False)\n",
        "\n",
        "conn.close()"
      ],
      "metadata": {
        "id": "gt-HOVdKGFJB"
      },
      "execution_count": null,
      "outputs": []
    },
    {
      "cell_type": "markdown",
      "source": [
        "## Task 2 Power BI\n",
        "\n",
        "**Key measures, columns and manipulations**\n",
        "*   Measure: Average Carbon avoided per Site -\n",
        "this measure displays the total carbon avoided divided by the number of sites\n",
        "*   Mesure: Total tonne carbon avoided - sums all total carbon avoided across all sites\n",
        "*   Column: PredictedTonnesCarbonAvoided - prediction for future values that were '0' for tonne carbon avoided\n",
        "*   Column: MovingAvgTCA - using moving average to predict tonne carbon avoided values for future report dates\n",
        "\n",
        "\n",
        "**Uncertainties to raise and gather feedback on**\n",
        "*   Unsure which metrics would be used for *ESG Carbon Metrics*\n",
        "*   Missing values for technology and country in ESG Metrics data\n",
        "*   Zero values in future values of modified production data\n",
        "\n",
        "**Maintenance Considerations**\n",
        "*   Establishing automated data pipeline so that up-to-date production and ESG data is displayed within dashboard\n",
        "*   Investigate the causes behind null values or '0's and find ways to fill these values\n",
        "*   Running data connection tests to ensure the process runs smoothly, and when changes are made to data pipelines or dashboard\n",
        "*   Discuss with stakeholders the requirements for data\n",
        " visualisation and investigate particular data points in more depth, with these changes being reflected in future dashboard iterations\n",
        "*   Documentation, document what data is ingested and how, document the purpose of each visual and provide details on how to use the dashboard, provide further support with training sessions for end-users\n",
        "*   Version control: Maintain documentation of changes to the dashboard and track current and future changes through Jira (or any other SDLC tracking tools)\n",
        "\n",
        "\n",
        "\n",
        "\n",
        "\n"
      ],
      "metadata": {
        "id": "QQmdHMLLcaZj"
      }
    },
    {
      "cell_type": "markdown",
      "source": [
        "# Task 3 API"
      ],
      "metadata": {
        "id": "etmrg2ZJIE-2"
      }
    },
    {
      "cell_type": "code",
      "source": [
        "import requests\n",
        "import pandas as pd\n",
        "from datetime import datetime, timedelta\n",
        "import time\n",
        "\n",
        "#Define the endpoint\n",
        "api_endpoint = \"https://data.elexon.co.uk/bmrs/api/v1/generation/outturn\"\n",
        "\n",
        "#Function to test API connection\n",
        "def test_api_connection():\n",
        "    try:\n",
        "        response = requests.get(api_endpoint)\n",
        "        if response.status_code == 200:\n",
        "            print(\"Successfully connected to the API.\")\n",
        "            print(\"Sample response data:\", response.json())\n",
        "            return True\n",
        "        else:\n",
        "            print(f\"Failed to connect to the API. Status code: {response.status_code}\")\n",
        "            print(\"Response content:\", response.content)\n",
        "            return False\n",
        "    except Exception as e:\n",
        "        print(f\"An error occurred: {e}\")\n",
        "        return False\n",
        "\n",
        "#Function to fetch data from the API\n",
        "def fetch_data(start_date, end_date):\n",
        "    params = {\n",
        "        \"startTime\": start_date,\n",
        "        \"endTime\": end_date,\n",
        "        \"limit\": 1000\n",
        "    }\n",
        "\n",
        "    response = requests.get(api_endpoint, params=params)\n",
        "    response.raise_for_status()\n",
        "    return response.json()\n",
        "\n",
        "#Function to get data between two dates\n",
        "def get_data_between_dates(start_date, end_date):\n",
        "    current_date = start_date\n",
        "    all_data = []\n",
        "\n",
        "    while current_date < end_date:\n",
        "        next_date = min(current_date + timedelta(days=6), end_date)\n",
        "        print(f\"Fetching data from {current_date} to {next_date - timedelta(seconds=1)}\")\n",
        "\n",
        "        try:\n",
        "            data = fetch_data(current_date.strftime(\"%Y-%m-%dT%H:%M:%SZ\"), (next_date - timedelta(seconds=1)).strftime(\"%Y-%m-%dT%H:%M:%SZ\"))\n",
        "            all_data.extend(data['data'])\n",
        "        except Exception as e:\n",
        "            print(f\"Failed to fetch data: {e}\")\n",
        "\n",
        "        current_date = next_date\n",
        "        time.sleep(1)  #Delay to avoid rate limiting\n",
        "\n",
        "    return pd.DataFrame(all_data)\n",
        "\n",
        "#Define the date range\n",
        "start_date = datetime(2024, 1, 1)\n",
        "end_date = datetime(2024, 3, 31)\n",
        "\n",
        "#Check API connection before fetching data\n",
        "if test_api_connection():\n",
        "    #Get data\n",
        "    data = get_data_between_dates(start_date, end_date)\n",
        "\n",
        "    #Check if data retrieval was successful\n",
        "    if not data.empty:\n",
        "        #Convert to DataFrame\n",
        "        df = pd.DataFrame(data)\n",
        "\n",
        "        # rint the columns to debug\n",
        "        print(\"Columns in DataFrame:\", df.columns)\n",
        "        print(\"Sample data:\", df.head())\n",
        "\n",
        "        #Remove potential duplicates\n",
        "        df.drop_duplicates(subset=['startTime'], inplace=True)\n",
        "\n",
        "        #Convert 'startTime' to datetime\n",
        "        df['startTime'] = pd.to_datetime(df['startTime'])\n",
        "\n",
        "        #Sum the demand values for each timestamp\n",
        "        total_generation_outturn = df.groupby('startTime')['demand'].sum().reset_index()\n",
        "\n",
        "        #Output the DataFrame\n",
        "        print(\"DataFrame of total generation outturn:\")\n",
        "        print(total_generation_outturn)\n",
        "\n",
        "        #Calculate the total sum of generation outturn for the period\n",
        "        total_outturn_sum = total_generation_outturn['demand'].sum()\n",
        "        print(f\"Total Generation Outturn from {start_date.date()} to {end_date.date()}: {total_outturn_sum}\")\n",
        "    else:\n",
        "        print(\"No data retrieved. Please check the API endpoint and parameters.\")\n"
      ],
      "metadata": {
        "colab": {
          "base_uri": "https://localhost:8080/"
        },
        "id": "mSL-Z22pIKa5",
        "outputId": "ea67ade2-fee2-48d4-bb17-2bac23b231bb"
      },
      "execution_count": null,
      "outputs": [
        {
          "output_type": "stream",
          "name": "stdout",
          "text": [
            "Successfully connected to the API.\n",
            "Sample response data: {'metadata': {'datasets': ['FUELINST']}, 'data': [{'recordType': 'VD', 'startTime': '2024-07-02T01:30:00Z', 'demand': 23151}, {'recordType': 'VD', 'startTime': '2024-07-02T01:35:00Z', 'demand': 23033}, {'recordType': 'VD', 'startTime': '2024-07-02T01:40:00Z', 'demand': 22908}, {'recordType': 'VD', 'startTime': '2024-07-02T01:45:00Z', 'demand': 22847}, {'recordType': 'VD', 'startTime': '2024-07-02T01:50:00Z', 'demand': 22740}, {'recordType': 'VD', 'startTime': '2024-07-02T01:55:00Z', 'demand': 22856}, {'recordType': 'VD', 'startTime': '2024-07-02T02:00:00Z', 'demand': 23053}, {'recordType': 'VD', 'startTime': '2024-07-02T02:05:00Z', 'demand': 23087}, {'recordType': 'VD', 'startTime': '2024-07-02T02:10:00Z', 'demand': 23071}, {'recordType': 'VD', 'startTime': '2024-07-02T02:15:00Z', 'demand': 23040}, {'recordType': 'VD', 'startTime': '2024-07-02T02:20:00Z', 'demand': 23026}, {'recordType': 'VD', 'startTime': '2024-07-02T02:25:00Z', 'demand': 23002}, {'recordType': 'VD', 'startTime': '2024-07-02T02:30:00Z', 'demand': 23069}, {'recordType': 'VD', 'startTime': '2024-07-02T02:35:00Z', 'demand': 23039}, {'recordType': 'VD', 'startTime': '2024-07-02T02:40:00Z', 'demand': 22994}, {'recordType': 'VD', 'startTime': '2024-07-02T02:45:00Z', 'demand': 22911}, {'recordType': 'VD', 'startTime': '2024-07-02T02:50:00Z', 'demand': 22797}, {'recordType': 'VD', 'startTime': '2024-07-02T02:55:00Z', 'demand': 22639}, {'recordType': 'VD', 'startTime': '2024-07-02T03:00:00Z', 'demand': 22437}, {'recordType': 'VD', 'startTime': '2024-07-02T03:05:00Z', 'demand': 22302}, {'recordType': 'VD', 'startTime': '2024-07-02T03:10:00Z', 'demand': 22345}, {'recordType': 'VD', 'startTime': '2024-07-02T03:15:00Z', 'demand': 22384}, {'recordType': 'VD', 'startTime': '2024-07-02T03:20:00Z', 'demand': 22527}, {'recordType': 'VD', 'startTime': '2024-07-02T03:25:00Z', 'demand': 22580}, {'recordType': 'VD', 'startTime': '2024-07-02T03:30:00Z', 'demand': 22487}, {'recordType': 'VD', 'startTime': '2024-07-02T03:35:00Z', 'demand': 22482}, {'recordType': 'VD', 'startTime': '2024-07-02T03:40:00Z', 'demand': 22487}, {'recordType': 'VD', 'startTime': '2024-07-02T03:45:00Z', 'demand': 22392}, {'recordType': 'VD', 'startTime': '2024-07-02T03:50:00Z', 'demand': 22216}, {'recordType': 'VD', 'startTime': '2024-07-02T03:55:00Z', 'demand': 21987}, {'recordType': 'VD', 'startTime': '2024-07-02T04:00:00Z', 'demand': 21716}, {'recordType': 'VD', 'startTime': '2024-07-02T04:05:00Z', 'demand': 21663}, {'recordType': 'VD', 'startTime': '2024-07-02T04:10:00Z', 'demand': 21795}, {'recordType': 'VD', 'startTime': '2024-07-02T04:15:00Z', 'demand': 22132}, {'recordType': 'VD', 'startTime': '2024-07-02T04:20:00Z', 'demand': 22253}, {'recordType': 'VD', 'startTime': '2024-07-02T04:25:00Z', 'demand': 22428}, {'recordType': 'VD', 'startTime': '2024-07-02T04:30:00Z', 'demand': 22552}, {'recordType': 'VD', 'startTime': '2024-07-02T04:35:00Z', 'demand': 22497}, {'recordType': 'VD', 'startTime': '2024-07-02T04:40:00Z', 'demand': 22754}, {'recordType': 'VD', 'startTime': '2024-07-02T04:45:00Z', 'demand': 22909}, {'recordType': 'VD', 'startTime': '2024-07-02T04:50:00Z', 'demand': 22923}, {'recordType': 'VD', 'startTime': '2024-07-02T04:55:00Z', 'demand': 22881}, {'recordType': 'VD', 'startTime': '2024-07-02T05:00:00Z', 'demand': 22654}, {'recordType': 'VD', 'startTime': '2024-07-02T05:05:00Z', 'demand': 22624}, {'recordType': 'VD', 'startTime': '2024-07-02T05:10:00Z', 'demand': 22702}, {'recordType': 'VD', 'startTime': '2024-07-02T05:15:00Z', 'demand': 22764}, {'recordType': 'VD', 'startTime': '2024-07-02T05:20:00Z', 'demand': 22946}, {'recordType': 'VD', 'startTime': '2024-07-02T05:25:00Z', 'demand': 23024}, {'recordType': 'VD', 'startTime': '2024-07-02T05:30:00Z', 'demand': 23355}, {'recordType': 'VD', 'startTime': '2024-07-02T05:35:00Z', 'demand': 23721}, {'recordType': 'VD', 'startTime': '2024-07-02T05:40:00Z', 'demand': 24040}, {'recordType': 'VD', 'startTime': '2024-07-02T05:45:00Z', 'demand': 24208}, {'recordType': 'VD', 'startTime': '2024-07-02T05:50:00Z', 'demand': 24383}, {'recordType': 'VD', 'startTime': '2024-07-02T05:55:00Z', 'demand': 24490}, {'recordType': 'VD', 'startTime': '2024-07-02T06:00:00Z', 'demand': 25036}, {'recordType': 'VD', 'startTime': '2024-07-02T06:05:00Z', 'demand': 25255}, {'recordType': 'VD', 'startTime': '2024-07-02T06:10:00Z', 'demand': 25259}, {'recordType': 'VD', 'startTime': '2024-07-02T06:15:00Z', 'demand': 25480}, {'recordType': 'VD', 'startTime': '2024-07-02T06:20:00Z', 'demand': 25644}, {'recordType': 'VD', 'startTime': '2024-07-02T06:25:00Z', 'demand': 25599}, {'recordType': 'VD', 'startTime': '2024-07-02T06:30:00Z', 'demand': 25672}, {'recordType': 'VD', 'startTime': '2024-07-02T06:35:00Z', 'demand': 25861}, {'recordType': 'VD', 'startTime': '2024-07-02T06:40:00Z', 'demand': 26099}, {'recordType': 'VD', 'startTime': '2024-07-02T06:45:00Z', 'demand': 26266}, {'recordType': 'VD', 'startTime': '2024-07-02T06:50:00Z', 'demand': 26347}, {'recordType': 'VD', 'startTime': '2024-07-02T06:55:00Z', 'demand': 26416}, {'recordType': 'VD', 'startTime': '2024-07-02T07:00:00Z', 'demand': 26772}, {'recordType': 'VD', 'startTime': '2024-07-02T07:05:00Z', 'demand': 27006}, {'recordType': 'VD', 'startTime': '2024-07-02T07:10:00Z', 'demand': 27106}, {'recordType': 'VD', 'startTime': '2024-07-02T07:15:00Z', 'demand': 27107}, {'recordType': 'VD', 'startTime': '2024-07-02T07:20:00Z', 'demand': 27151}, {'recordType': 'VD', 'startTime': '2024-07-02T07:25:00Z', 'demand': 27122}, {'recordType': 'VD', 'startTime': '2024-07-02T07:30:00Z', 'demand': 27496}, {'recordType': 'VD', 'startTime': '2024-07-02T07:35:00Z', 'demand': 27694}, {'recordType': 'VD', 'startTime': '2024-07-02T07:40:00Z', 'demand': 27919}, {'recordType': 'VD', 'startTime': '2024-07-02T07:45:00Z', 'demand': 28024}, {'recordType': 'VD', 'startTime': '2024-07-02T07:50:00Z', 'demand': 28083}, {'recordType': 'VD', 'startTime': '2024-07-02T07:55:00Z', 'demand': 28046}, {'recordType': 'VD', 'startTime': '2024-07-02T08:00:00Z', 'demand': 27972}, {'recordType': 'VD', 'startTime': '2024-07-02T08:05:00Z', 'demand': 27962}, {'recordType': 'VD', 'startTime': '2024-07-02T08:10:00Z', 'demand': 27842}, {'recordType': 'VD', 'startTime': '2024-07-02T08:15:00Z', 'demand': 27883}, {'recordType': 'VD', 'startTime': '2024-07-02T08:20:00Z', 'demand': 27893}, {'recordType': 'VD', 'startTime': '2024-07-02T08:25:00Z', 'demand': 27841}, {'recordType': 'VD', 'startTime': '2024-07-02T08:30:00Z', 'demand': 27980}, {'recordType': 'VD', 'startTime': '2024-07-02T08:35:00Z', 'demand': 28042}, {'recordType': 'VD', 'startTime': '2024-07-02T08:40:00Z', 'demand': 28108}, {'recordType': 'VD', 'startTime': '2024-07-02T08:45:00Z', 'demand': 28106}, {'recordType': 'VD', 'startTime': '2024-07-02T08:50:00Z', 'demand': 28151}, {'recordType': 'VD', 'startTime': '2024-07-02T08:55:00Z', 'demand': 28086}, {'recordType': 'VD', 'startTime': '2024-07-02T09:00:00Z', 'demand': 28052}, {'recordType': 'VD', 'startTime': '2024-07-02T09:05:00Z', 'demand': 27901}, {'recordType': 'VD', 'startTime': '2024-07-02T09:10:00Z', 'demand': 27816}, {'recordType': 'VD', 'startTime': '2024-07-02T09:15:00Z', 'demand': 27820}, {'recordType': 'VD', 'startTime': '2024-07-02T09:20:00Z', 'demand': 27658}, {'recordType': 'VD', 'startTime': '2024-07-02T09:25:00Z', 'demand': 27483}, {'recordType': 'VD', 'startTime': '2024-07-02T09:30:00Z', 'demand': 27377}, {'recordType': 'VD', 'startTime': '2024-07-02T09:35:00Z', 'demand': 27451}, {'recordType': 'VD', 'startTime': '2024-07-02T09:40:00Z', 'demand': 27343}, {'recordType': 'VD', 'startTime': '2024-07-02T09:45:00Z', 'demand': 27329}, {'recordType': 'VD', 'startTime': '2024-07-02T09:50:00Z', 'demand': 27432}, {'recordType': 'VD', 'startTime': '2024-07-02T09:55:00Z', 'demand': 27384}, {'recordType': 'VD', 'startTime': '2024-07-02T10:00:00Z', 'demand': 27117}, {'recordType': 'VD', 'startTime': '2024-07-02T10:05:00Z', 'demand': 27067}, {'recordType': 'VD', 'startTime': '2024-07-02T10:10:00Z', 'demand': 27056}, {'recordType': 'VD', 'startTime': '2024-07-02T10:15:00Z', 'demand': 27089}, {'recordType': 'VD', 'startTime': '2024-07-02T10:20:00Z', 'demand': 27101}, {'recordType': 'VD', 'startTime': '2024-07-02T10:25:00Z', 'demand': 27097}, {'recordType': 'VD', 'startTime': '2024-07-02T10:30:00Z', 'demand': 27006}, {'recordType': 'VD', 'startTime': '2024-07-02T10:35:00Z', 'demand': 26974}, {'recordType': 'VD', 'startTime': '2024-07-02T10:40:00Z', 'demand': 27116}, {'recordType': 'VD', 'startTime': '2024-07-02T10:45:00Z', 'demand': 27149}, {'recordType': 'VD', 'startTime': '2024-07-02T10:50:00Z', 'demand': 27148}, {'recordType': 'VD', 'startTime': '2024-07-02T10:55:00Z', 'demand': 27158}, {'recordType': 'VD', 'startTime': '2024-07-02T11:00:00Z', 'demand': 27191}, {'recordType': 'VD', 'startTime': '2024-07-02T11:05:00Z', 'demand': 27138}, {'recordType': 'VD', 'startTime': '2024-07-02T11:10:00Z', 'demand': 27063}, {'recordType': 'VD', 'startTime': '2024-07-02T11:15:00Z', 'demand': 26932}, {'recordType': 'VD', 'startTime': '2024-07-02T11:20:00Z', 'demand': 26927}, {'recordType': 'VD', 'startTime': '2024-07-02T11:25:00Z', 'demand': 26834}, {'recordType': 'VD', 'startTime': '2024-07-02T11:30:00Z', 'demand': 26797}, {'recordType': 'VD', 'startTime': '2024-07-02T11:35:00Z', 'demand': 26709}, {'recordType': 'VD', 'startTime': '2024-07-02T11:40:00Z', 'demand': 26674}, {'recordType': 'VD', 'startTime': '2024-07-02T11:45:00Z', 'demand': 26608}, {'recordType': 'VD', 'startTime': '2024-07-02T11:50:00Z', 'demand': 26538}, {'recordType': 'VD', 'startTime': '2024-07-02T11:55:00Z', 'demand': 26463}, {'recordType': 'VD', 'startTime': '2024-07-02T12:00:00Z', 'demand': 26372}, {'recordType': 'VD', 'startTime': '2024-07-02T12:05:00Z', 'demand': 26269}, {'recordType': 'VD', 'startTime': '2024-07-02T12:10:00Z', 'demand': 26116}, {'recordType': 'VD', 'startTime': '2024-07-02T12:15:00Z', 'demand': 26051}, {'recordType': 'VD', 'startTime': '2024-07-02T12:20:00Z', 'demand': 26008}, {'recordType': 'VD', 'startTime': '2024-07-02T12:25:00Z', 'demand': 26039}, {'recordType': 'VD', 'startTime': '2024-07-02T12:30:00Z', 'demand': 25938}, {'recordType': 'VD', 'startTime': '2024-07-02T12:35:00Z', 'demand': 25810}, {'recordType': 'VD', 'startTime': '2024-07-02T12:40:00Z', 'demand': 25778}, {'recordType': 'VD', 'startTime': '2024-07-02T12:45:00Z', 'demand': 25778}, {'recordType': 'VD', 'startTime': '2024-07-02T12:50:00Z', 'demand': 25815}, {'recordType': 'VD', 'startTime': '2024-07-02T12:55:00Z', 'demand': 25679}, {'recordType': 'VD', 'startTime': '2024-07-02T13:00:00Z', 'demand': 25537}, {'recordType': 'VD', 'startTime': '2024-07-02T13:05:00Z', 'demand': 25539}, {'recordType': 'VD', 'startTime': '2024-07-02T13:10:00Z', 'demand': 25537}, {'recordType': 'VD', 'startTime': '2024-07-02T13:15:00Z', 'demand': 25606}, {'recordType': 'VD', 'startTime': '2024-07-02T13:20:00Z', 'demand': 25734}, {'recordType': 'VD', 'startTime': '2024-07-02T13:25:00Z', 'demand': 25662}, {'recordType': 'VD', 'startTime': '2024-07-02T13:30:00Z', 'demand': 25565}, {'recordType': 'VD', 'startTime': '2024-07-02T13:35:00Z', 'demand': 25804}, {'recordType': 'VD', 'startTime': '2024-07-02T13:40:00Z', 'demand': 25762}, {'recordType': 'VD', 'startTime': '2024-07-02T13:45:00Z', 'demand': 25784}, {'recordType': 'VD', 'startTime': '2024-07-02T13:50:00Z', 'demand': 25796}, {'recordType': 'VD', 'startTime': '2024-07-02T13:55:00Z', 'demand': 25581}, {'recordType': 'VD', 'startTime': '2024-07-02T14:00:00Z', 'demand': 25514}, {'recordType': 'VD', 'startTime': '2024-07-02T14:05:00Z', 'demand': 25592}, {'recordType': 'VD', 'startTime': '2024-07-02T14:10:00Z', 'demand': 25816}, {'recordType': 'VD', 'startTime': '2024-07-02T14:15:00Z', 'demand': 25816}, {'recordType': 'VD', 'startTime': '2024-07-02T14:20:00Z', 'demand': 25795}, {'recordType': 'VD', 'startTime': '2024-07-02T14:25:00Z', 'demand': 25893}, {'recordType': 'VD', 'startTime': '2024-07-02T14:30:00Z', 'demand': 25942}, {'recordType': 'VD', 'startTime': '2024-07-02T14:35:00Z', 'demand': 25829}, {'recordType': 'VD', 'startTime': '2024-07-02T14:40:00Z', 'demand': 25880}, {'recordType': 'VD', 'startTime': '2024-07-02T14:45:00Z', 'demand': 26001}, {'recordType': 'VD', 'startTime': '2024-07-02T14:50:00Z', 'demand': 26219}, {'recordType': 'VD', 'startTime': '2024-07-02T14:55:00Z', 'demand': 26225}, {'recordType': 'VD', 'startTime': '2024-07-02T15:00:00Z', 'demand': 26180}, {'recordType': 'VD', 'startTime': '2024-07-02T15:05:00Z', 'demand': 26294}, {'recordType': 'VD', 'startTime': '2024-07-02T15:10:00Z', 'demand': 26330}, {'recordType': 'VD', 'startTime': '2024-07-02T15:15:00Z', 'demand': 26415}, {'recordType': 'VD', 'startTime': '2024-07-02T15:20:00Z', 'demand': 26471}, {'recordType': 'VD', 'startTime': '2024-07-02T15:25:00Z', 'demand': 26476}, {'recordType': 'VD', 'startTime': '2024-07-02T15:30:00Z', 'demand': 26574}, {'recordType': 'VD', 'startTime': '2024-07-02T15:35:00Z', 'demand': 26648}, {'recordType': 'VD', 'startTime': '2024-07-02T15:40:00Z', 'demand': 26776}, {'recordType': 'VD', 'startTime': '2024-07-02T15:45:00Z', 'demand': 26948}, {'recordType': 'VD', 'startTime': '2024-07-02T15:50:00Z', 'demand': 27108}, {'recordType': 'VD', 'startTime': '2024-07-02T15:55:00Z', 'demand': 27281}, {'recordType': 'VD', 'startTime': '2024-07-02T16:00:00Z', 'demand': 27147}, {'recordType': 'VD', 'startTime': '2024-07-02T16:05:00Z', 'demand': 27089}, {'recordType': 'VD', 'startTime': '2024-07-02T16:10:00Z', 'demand': 27181}, {'recordType': 'VD', 'startTime': '2024-07-02T16:15:00Z', 'demand': 27399}, {'recordType': 'VD', 'startTime': '2024-07-02T16:20:00Z', 'demand': 27477}, {'recordType': 'VD', 'startTime': '2024-07-02T16:25:00Z', 'demand': 27546}, {'recordType': 'VD', 'startTime': '2024-07-02T16:30:00Z', 'demand': 27757}, {'recordType': 'VD', 'startTime': '2024-07-02T16:35:00Z', 'demand': 27771}, {'recordType': 'VD', 'startTime': '2024-07-02T16:40:00Z', 'demand': 27809}, {'recordType': 'VD', 'startTime': '2024-07-02T16:45:00Z', 'demand': 27893}, {'recordType': 'VD', 'startTime': '2024-07-02T16:50:00Z', 'demand': 27920}, {'recordType': 'VD', 'startTime': '2024-07-02T16:55:00Z', 'demand': 27966}, {'recordType': 'VD', 'startTime': '2024-07-02T17:00:00Z', 'demand': 28303}, {'recordType': 'VD', 'startTime': '2024-07-02T17:05:00Z', 'demand': 28446}, {'recordType': 'VD', 'startTime': '2024-07-02T17:10:00Z', 'demand': 28400}, {'recordType': 'VD', 'startTime': '2024-07-02T17:15:00Z', 'demand': 28308}, {'recordType': 'VD', 'startTime': '2024-07-02T17:20:00Z', 'demand': 28299}, {'recordType': 'VD', 'startTime': '2024-07-02T17:25:00Z', 'demand': 28321}, {'recordType': 'VD', 'startTime': '2024-07-02T17:30:00Z', 'demand': 28328}, {'recordType': 'VD', 'startTime': '2024-07-02T17:35:00Z', 'demand': 28248}, {'recordType': 'VD', 'startTime': '2024-07-02T17:40:00Z', 'demand': 28234}, {'recordType': 'VD', 'startTime': '2024-07-02T17:45:00Z', 'demand': 28294}, {'recordType': 'VD', 'startTime': '2024-07-02T17:50:00Z', 'demand': 28320}, {'recordType': 'VD', 'startTime': '2024-07-02T17:55:00Z', 'demand': 28338}, {'recordType': 'VD', 'startTime': '2024-07-02T18:00:00Z', 'demand': 28550}, {'recordType': 'VD', 'startTime': '2024-07-02T18:05:00Z', 'demand': 28600}, {'recordType': 'VD', 'startTime': '2024-07-02T18:10:00Z', 'demand': 28653}, {'recordType': 'VD', 'startTime': '2024-07-02T18:15:00Z', 'demand': 28691}, {'recordType': 'VD', 'startTime': '2024-07-02T18:20:00Z', 'demand': 28668}, {'recordType': 'VD', 'startTime': '2024-07-02T18:25:00Z', 'demand': 28716}, {'recordType': 'VD', 'startTime': '2024-07-02T18:30:00Z', 'demand': 28974}, {'recordType': 'VD', 'startTime': '2024-07-02T18:35:00Z', 'demand': 28970}, {'recordType': 'VD', 'startTime': '2024-07-02T18:40:00Z', 'demand': 28841}, {'recordType': 'VD', 'startTime': '2024-07-02T18:45:00Z', 'demand': 28801}, {'recordType': 'VD', 'startTime': '2024-07-02T18:50:00Z', 'demand': 28751}, {'recordType': 'VD', 'startTime': '2024-07-02T18:55:00Z', 'demand': 28631}, {'recordType': 'VD', 'startTime': '2024-07-02T19:00:00Z', 'demand': 28499}, {'recordType': 'VD', 'startTime': '2024-07-02T19:05:00Z', 'demand': 28455}, {'recordType': 'VD', 'startTime': '2024-07-02T19:10:00Z', 'demand': 28408}, {'recordType': 'VD', 'startTime': '2024-07-02T19:15:00Z', 'demand': 28463}, {'recordType': 'VD', 'startTime': '2024-07-02T19:20:00Z', 'demand': 28479}, {'recordType': 'VD', 'startTime': '2024-07-02T19:25:00Z', 'demand': 28472}, {'recordType': 'VD', 'startTime': '2024-07-02T19:30:00Z', 'demand': 28557}, {'recordType': 'VD', 'startTime': '2024-07-02T19:35:00Z', 'demand': 28581}, {'recordType': 'VD', 'startTime': '2024-07-02T19:40:00Z', 'demand': 28586}, {'recordType': 'VD', 'startTime': '2024-07-02T19:45:00Z', 'demand': 28647}, {'recordType': 'VD', 'startTime': '2024-07-02T19:50:00Z', 'demand': 28667}, {'recordType': 'VD', 'startTime': '2024-07-02T19:55:00Z', 'demand': 28643}, {'recordType': 'VD', 'startTime': '2024-07-02T20:00:00Z', 'demand': 28531}, {'recordType': 'VD', 'startTime': '2024-07-02T20:05:00Z', 'demand': 28481}, {'recordType': 'VD', 'startTime': '2024-07-02T20:10:00Z', 'demand': 28487}, {'recordType': 'VD', 'startTime': '2024-07-02T20:15:00Z', 'demand': 28466}, {'recordType': 'VD', 'startTime': '2024-07-02T20:20:00Z', 'demand': 28348}, {'recordType': 'VD', 'startTime': '2024-07-02T20:25:00Z', 'demand': 28326}, {'recordType': 'VD', 'startTime': '2024-07-02T20:30:00Z', 'demand': 28007}, {'recordType': 'VD', 'startTime': '2024-07-02T20:35:00Z', 'demand': 27788}, {'recordType': 'VD', 'startTime': '2024-07-02T20:40:00Z', 'demand': 27803}, {'recordType': 'VD', 'startTime': '2024-07-02T20:45:00Z', 'demand': 27707}, {'recordType': 'VD', 'startTime': '2024-07-02T20:50:00Z', 'demand': 27469}, {'recordType': 'VD', 'startTime': '2024-07-02T20:55:00Z', 'demand': 27257}, {'recordType': 'VD', 'startTime': '2024-07-02T21:00:00Z', 'demand': 26943}, {'recordType': 'VD', 'startTime': '2024-07-02T21:05:00Z', 'demand': 26860}, {'recordType': 'VD', 'startTime': '2024-07-02T21:10:00Z', 'demand': 26737}, {'recordType': 'VD', 'startTime': '2024-07-02T21:15:00Z', 'demand': 26461}, {'recordType': 'VD', 'startTime': '2024-07-02T21:20:00Z', 'demand': 26232}, {'recordType': 'VD', 'startTime': '2024-07-02T21:25:00Z', 'demand': 26215}, {'recordType': 'VD', 'startTime': '2024-07-02T21:30:00Z', 'demand': 26114}, {'recordType': 'VD', 'startTime': '2024-07-02T21:35:00Z', 'demand': 25870}, {'recordType': 'VD', 'startTime': '2024-07-02T21:40:00Z', 'demand': 25727}, {'recordType': 'VD', 'startTime': '2024-07-02T21:45:00Z', 'demand': 25492}, {'recordType': 'VD', 'startTime': '2024-07-02T21:50:00Z', 'demand': 25279}, {'recordType': 'VD', 'startTime': '2024-07-02T21:55:00Z', 'demand': 25115}, {'recordType': 'VD', 'startTime': '2024-07-02T22:00:00Z', 'demand': 24974}, {'recordType': 'VD', 'startTime': '2024-07-02T22:05:00Z', 'demand': 24263}, {'recordType': 'VD', 'startTime': '2024-07-02T22:10:00Z', 'demand': 24012}, {'recordType': 'VD', 'startTime': '2024-07-02T22:15:00Z', 'demand': 23662}, {'recordType': 'VD', 'startTime': '2024-07-02T22:20:00Z', 'demand': 23442}, {'recordType': 'VD', 'startTime': '2024-07-02T22:25:00Z', 'demand': 23275}, {'recordType': 'VD', 'startTime': '2024-07-02T22:30:00Z', 'demand': 23128}, {'recordType': 'VD', 'startTime': '2024-07-02T22:35:00Z', 'demand': 22912}, {'recordType': 'VD', 'startTime': '2024-07-02T22:40:00Z', 'demand': 22685}, {'recordType': 'VD', 'startTime': '2024-07-02T22:45:00Z', 'demand': 22443}, {'recordType': 'VD', 'startTime': '2024-07-02T22:50:00Z', 'demand': 22223}, {'recordType': 'VD', 'startTime': '2024-07-02T22:55:00Z', 'demand': 21927}, {'recordType': 'VD', 'startTime': '2024-07-02T23:00:00Z', 'demand': 21962}, {'recordType': 'VD', 'startTime': '2024-07-02T23:05:00Z', 'demand': 21996}, {'recordType': 'VD', 'startTime': '2024-07-02T23:10:00Z', 'demand': 21993}, {'recordType': 'VD', 'startTime': '2024-07-02T23:15:00Z', 'demand': 21889}, {'recordType': 'VD', 'startTime': '2024-07-02T23:20:00Z', 'demand': 21708}, {'recordType': 'VD', 'startTime': '2024-07-02T23:25:00Z', 'demand': 21560}, {'recordType': 'VD', 'startTime': '2024-07-02T23:30:00Z', 'demand': 21545}, {'recordType': 'VD', 'startTime': '2024-07-02T23:35:00Z', 'demand': 21525}, {'recordType': 'VD', 'startTime': '2024-07-02T23:40:00Z', 'demand': 21631}, {'recordType': 'VD', 'startTime': '2024-07-02T23:45:00Z', 'demand': 21700}, {'recordType': 'VD', 'startTime': '2024-07-02T23:50:00Z', 'demand': 21724}, {'recordType': 'VD', 'startTime': '2024-07-02T23:55:00Z', 'demand': 21677}, {'recordType': 'VD', 'startTime': '2024-07-03T00:00:00Z', 'demand': 21496}, {'recordType': 'VD', 'startTime': '2024-07-03T00:05:00Z', 'demand': 21543}, {'recordType': 'VD', 'startTime': '2024-07-03T00:10:00Z', 'demand': 21629}, {'recordType': 'VD', 'startTime': '2024-07-03T00:15:00Z', 'demand': 21505}, {'recordType': 'VD', 'startTime': '2024-07-03T00:20:00Z', 'demand': 21433}, {'recordType': 'VD', 'startTime': '2024-07-03T00:25:00Z', 'demand': 21198}, {'recordType': 'VD', 'startTime': '2024-07-03T00:30:00Z', 'demand': 21521}, {'recordType': 'VD', 'startTime': '2024-07-03T00:35:00Z', 'demand': 21484}, {'recordType': 'VD', 'startTime': '2024-07-03T00:40:00Z', 'demand': 21470}, {'recordType': 'VD', 'startTime': '2024-07-03T00:45:00Z', 'demand': 21515}, {'recordType': 'VD', 'startTime': '2024-07-03T00:50:00Z', 'demand': 21676}, {'recordType': 'VD', 'startTime': '2024-07-03T00:55:00Z', 'demand': 21123}, {'recordType': 'VD', 'startTime': '2024-07-03T01:00:00Z', 'demand': 20689}, {'recordType': 'VD', 'startTime': '2024-07-03T01:05:00Z', 'demand': 20597}, {'recordType': 'VD', 'startTime': '2024-07-03T01:10:00Z', 'demand': 20657}, {'recordType': 'VD', 'startTime': '2024-07-03T01:15:00Z', 'demand': 20582}, {'recordType': 'VD', 'startTime': '2024-07-03T01:20:00Z', 'demand': 20711}, {'recordType': 'VD', 'startTime': '2024-07-03T01:25:00Z', 'demand': 20780}, {'recordType': 'VD', 'startTime': '2024-07-03T01:30:00Z', 'demand': 20846}, {'recordType': 'VD', 'startTime': '2024-07-03T01:35:00Z', 'demand': 20860}, {'recordType': 'VD', 'startTime': '2024-07-03T01:40:00Z', 'demand': 20968}, {'recordType': 'VD', 'startTime': '2024-07-03T01:45:00Z', 'demand': 21017}, {'recordType': 'VD', 'startTime': '2024-07-03T01:50:00Z', 'demand': 21071}, {'recordType': 'VD', 'startTime': '2024-07-03T01:55:00Z', 'demand': 21094}, {'recordType': 'VD', 'startTime': '2024-07-03T02:00:00Z', 'demand': 20799}, {'recordType': 'VD', 'startTime': '2024-07-03T02:05:00Z', 'demand': 20699}, {'recordType': 'VD', 'startTime': '2024-07-03T02:10:00Z', 'demand': 20645}, {'recordType': 'VD', 'startTime': '2024-07-03T02:15:00Z', 'demand': 20734}, {'recordType': 'VD', 'startTime': '2024-07-03T02:20:00Z', 'demand': 20895}, {'recordType': 'VD', 'startTime': '2024-07-03T02:25:00Z', 'demand': 20997}, {'recordType': 'VD', 'startTime': '2024-07-03T02:30:00Z', 'demand': 21060}, {'recordType': 'VD', 'startTime': '2024-07-03T02:35:00Z', 'demand': 21006}, {'recordType': 'VD', 'startTime': '2024-07-03T02:40:00Z', 'demand': 20985}, {'recordType': 'VD', 'startTime': '2024-07-03T02:45:00Z', 'demand': 20976}, {'recordType': 'VD', 'startTime': '2024-07-03T02:50:00Z', 'demand': 20930}, {'recordType': 'VD', 'startTime': '2024-07-03T02:55:00Z', 'demand': 20755}, {'recordType': 'VD', 'startTime': '2024-07-03T03:00:00Z', 'demand': 20266}, {'recordType': 'VD', 'startTime': '2024-07-03T03:05:00Z', 'demand': 20211}, {'recordType': 'VD', 'startTime': '2024-07-03T03:10:00Z', 'demand': 20242}, {'recordType': 'VD', 'startTime': '2024-07-03T03:15:00Z', 'demand': 20152}, {'recordType': 'VD', 'startTime': '2024-07-03T03:20:00Z', 'demand': 20169}, {'recordType': 'VD', 'startTime': '2024-07-03T03:25:00Z', 'demand': 20233}, {'recordType': 'VD', 'startTime': '2024-07-03T03:30:00Z', 'demand': 20174}, {'recordType': 'VD', 'startTime': '2024-07-03T03:35:00Z', 'demand': 20139}, {'recordType': 'VD', 'startTime': '2024-07-03T03:40:00Z', 'demand': 20086}, {'recordType': 'VD', 'startTime': '2024-07-03T03:45:00Z', 'demand': 19932}, {'recordType': 'VD', 'startTime': '2024-07-03T03:50:00Z', 'demand': 19713}, {'recordType': 'VD', 'startTime': '2024-07-03T03:55:00Z', 'demand': 19776}, {'recordType': 'VD', 'startTime': '2024-07-03T04:00:00Z', 'demand': 19939}, {'recordType': 'VD', 'startTime': '2024-07-03T04:05:00Z', 'demand': 20019}, {'recordType': 'VD', 'startTime': '2024-07-03T04:10:00Z', 'demand': 20119}, {'recordType': 'VD', 'startTime': '2024-07-03T04:15:00Z', 'demand': 20181}, {'recordType': 'VD', 'startTime': '2024-07-03T04:20:00Z', 'demand': 20093}, {'recordType': 'VD', 'startTime': '2024-07-03T04:25:00Z', 'demand': 19890}, {'recordType': 'VD', 'startTime': '2024-07-03T04:30:00Z', 'demand': 19825}, {'recordType': 'VD', 'startTime': '2024-07-03T04:35:00Z', 'demand': 20044}, {'recordType': 'VD', 'startTime': '2024-07-03T04:40:00Z', 'demand': 20261}, {'recordType': 'VD', 'startTime': '2024-07-03T04:45:00Z', 'demand': 20443}, {'recordType': 'VD', 'startTime': '2024-07-03T04:50:00Z', 'demand': 20653}, {'recordType': 'VD', 'startTime': '2024-07-03T04:55:00Z', 'demand': 20880}, {'recordType': 'VD', 'startTime': '2024-07-03T05:00:00Z', 'demand': 21366}, {'recordType': 'VD', 'startTime': '2024-07-03T05:05:00Z', 'demand': 21759}, {'recordType': 'VD', 'startTime': '2024-07-03T05:10:00Z', 'demand': 22068}, {'recordType': 'VD', 'startTime': '2024-07-03T05:15:00Z', 'demand': 22308}, {'recordType': 'VD', 'startTime': '2024-07-03T05:20:00Z', 'demand': 22628}, {'recordType': 'VD', 'startTime': '2024-07-03T05:25:00Z', 'demand': 22907}, {'recordType': 'VD', 'startTime': '2024-07-03T05:30:00Z', 'demand': 23291}, {'recordType': 'VD', 'startTime': '2024-07-03T05:35:00Z', 'demand': 23535}, {'recordType': 'VD', 'startTime': '2024-07-03T05:40:00Z', 'demand': 23726}, {'recordType': 'VD', 'startTime': '2024-07-03T05:45:00Z', 'demand': 23928}, {'recordType': 'VD', 'startTime': '2024-07-03T05:50:00Z', 'demand': 24275}, {'recordType': 'VD', 'startTime': '2024-07-03T05:55:00Z', 'demand': 24556}, {'recordType': 'VD', 'startTime': '2024-07-03T06:00:00Z', 'demand': 25081}, {'recordType': 'VD', 'startTime': '2024-07-03T06:05:00Z', 'demand': 25542}, {'recordType': 'VD', 'startTime': '2024-07-03T06:10:00Z', 'demand': 25791}, {'recordType': 'VD', 'startTime': '2024-07-03T06:15:00Z', 'demand': 26032}, {'recordType': 'VD', 'startTime': '2024-07-03T06:20:00Z', 'demand': 26216}, {'recordType': 'VD', 'startTime': '2024-07-03T06:25:00Z', 'demand': 26259}, {'recordType': 'VD', 'startTime': '2024-07-03T06:30:00Z', 'demand': 26455}, {'recordType': 'VD', 'startTime': '2024-07-03T06:35:00Z', 'demand': 26595}, {'recordType': 'VD', 'startTime': '2024-07-03T06:40:00Z', 'demand': 26702}, {'recordType': 'VD', 'startTime': '2024-07-03T06:45:00Z', 'demand': 26760}, {'recordType': 'VD', 'startTime': '2024-07-03T06:50:00Z', 'demand': 26935}, {'recordType': 'VD', 'startTime': '2024-07-03T06:55:00Z', 'demand': 27133}, {'recordType': 'VD', 'startTime': '2024-07-03T07:00:00Z', 'demand': 27574}, {'recordType': 'VD', 'startTime': '2024-07-03T07:05:00Z', 'demand': 27686}, {'recordType': 'VD', 'startTime': '2024-07-03T07:10:00Z', 'demand': 27787}, {'recordType': 'VD', 'startTime': '2024-07-03T07:15:00Z', 'demand': 27847}, {'recordType': 'VD', 'startTime': '2024-07-03T07:20:00Z', 'demand': 27828}, {'recordType': 'VD', 'startTime': '2024-07-03T07:25:00Z', 'demand': 27875}, {'recordType': 'VD', 'startTime': '2024-07-03T07:30:00Z', 'demand': 27920}, {'recordType': 'VD', 'startTime': '2024-07-03T07:35:00Z', 'demand': 27919}, {'recordType': 'VD', 'startTime': '2024-07-03T07:40:00Z', 'demand': 27988}, {'recordType': 'VD', 'startTime': '2024-07-03T07:45:00Z', 'demand': 27871}, {'recordType': 'VD', 'startTime': '2024-07-03T07:50:00Z', 'demand': 28039}, {'recordType': 'VD', 'startTime': '2024-07-03T07:55:00Z', 'demand': 28084}, {'recordType': 'VD', 'startTime': '2024-07-03T08:00:00Z', 'demand': 28261}, {'recordType': 'VD', 'startTime': '2024-07-03T08:05:00Z', 'demand': 28591}, {'recordType': 'VD', 'startTime': '2024-07-03T08:10:00Z', 'demand': 28591}, {'recordType': 'VD', 'startTime': '2024-07-03T08:15:00Z', 'demand': 28442}, {'recordType': 'VD', 'startTime': '2024-07-03T08:20:00Z', 'demand': 28462}, {'recordType': 'VD', 'startTime': '2024-07-03T08:25:00Z', 'demand': 28448}, {'recordType': 'VD', 'startTime': '2024-07-03T08:30:00Z', 'demand': 28336}, {'recordType': 'VD', 'startTime': '2024-07-03T08:35:00Z', 'demand': 28253}, {'recordType': 'VD', 'startTime': '2024-07-03T08:40:00Z', 'demand': 28185}, {'recordType': 'VD', 'startTime': '2024-07-03T08:45:00Z', 'demand': 28304}, {'recordType': 'VD', 'startTime': '2024-07-03T08:50:00Z', 'demand': 28199}, {'recordType': 'VD', 'startTime': '2024-07-03T08:55:00Z', 'demand': 28053}, {'recordType': 'VD', 'startTime': '2024-07-03T09:00:00Z', 'demand': 27796}, {'recordType': 'VD', 'startTime': '2024-07-03T09:05:00Z', 'demand': 27960}, {'recordType': 'VD', 'startTime': '2024-07-03T09:10:00Z', 'demand': 27648}, {'recordType': 'VD', 'startTime': '2024-07-03T09:15:00Z', 'demand': 27677}, {'recordType': 'VD', 'startTime': '2024-07-03T09:20:00Z', 'demand': 27724}, {'recordType': 'VD', 'startTime': '2024-07-03T09:25:00Z', 'demand': 27802}, {'recordType': 'VD', 'startTime': '2024-07-03T09:30:00Z', 'demand': 27832}, {'recordType': 'VD', 'startTime': '2024-07-03T09:35:00Z', 'demand': 28137}, {'recordType': 'VD', 'startTime': '2024-07-03T09:40:00Z', 'demand': 27945}, {'recordType': 'VD', 'startTime': '2024-07-03T09:45:00Z', 'demand': 27915}, {'recordType': 'VD', 'startTime': '2024-07-03T09:50:00Z', 'demand': 27878}, {'recordType': 'VD', 'startTime': '2024-07-03T09:55:00Z', 'demand': 27728}, {'recordType': 'VD', 'startTime': '2024-07-03T10:00:00Z', 'demand': 27794}, {'recordType': 'VD', 'startTime': '2024-07-03T10:05:00Z', 'demand': 27772}, {'recordType': 'VD', 'startTime': '2024-07-03T10:10:00Z', 'demand': 27708}, {'recordType': 'VD', 'startTime': '2024-07-03T10:15:00Z', 'demand': 27781}, {'recordType': 'VD', 'startTime': '2024-07-03T10:20:00Z', 'demand': 27811}, {'recordType': 'VD', 'startTime': '2024-07-03T10:25:00Z', 'demand': 27816}, {'recordType': 'VD', 'startTime': '2024-07-03T10:30:00Z', 'demand': 27826}, {'recordType': 'VD', 'startTime': '2024-07-03T10:35:00Z', 'demand': 27748}, {'recordType': 'VD', 'startTime': '2024-07-03T10:40:00Z', 'demand': 27675}, {'recordType': 'VD', 'startTime': '2024-07-03T10:45:00Z', 'demand': 27481}, {'recordType': 'VD', 'startTime': '2024-07-03T10:50:00Z', 'demand': 27476}, {'recordType': 'VD', 'startTime': '2024-07-03T10:55:00Z', 'demand': 27538}, {'recordType': 'VD', 'startTime': '2024-07-03T11:00:00Z', 'demand': 27767}, {'recordType': 'VD', 'startTime': '2024-07-03T11:05:00Z', 'demand': 27670}, {'recordType': 'VD', 'startTime': '2024-07-03T11:10:00Z', 'demand': 27356}, {'recordType': 'VD', 'startTime': '2024-07-03T11:15:00Z', 'demand': 27100}, {'recordType': 'VD', 'startTime': '2024-07-03T11:20:00Z', 'demand': 27095}, {'recordType': 'VD', 'startTime': '2024-07-03T11:25:00Z', 'demand': 27060}, {'recordType': 'VD', 'startTime': '2024-07-03T11:30:00Z', 'demand': 27130}, {'recordType': 'VD', 'startTime': '2024-07-03T11:35:00Z', 'demand': 27108}, {'recordType': 'VD', 'startTime': '2024-07-03T11:40:00Z', 'demand': 27106}, {'recordType': 'VD', 'startTime': '2024-07-03T11:45:00Z', 'demand': 27003}, {'recordType': 'VD', 'startTime': '2024-07-03T11:50:00Z', 'demand': 26928}, {'recordType': 'VD', 'startTime': '2024-07-03T11:55:00Z', 'demand': 26734}, {'recordType': 'VD', 'startTime': '2024-07-03T12:00:00Z', 'demand': 26733}, {'recordType': 'VD', 'startTime': '2024-07-03T12:05:00Z', 'demand': 26764}, {'recordType': 'VD', 'startTime': '2024-07-03T12:10:00Z', 'demand': 26796}, {'recordType': 'VD', 'startTime': '2024-07-03T12:15:00Z', 'demand': 26802}, {'recordType': 'VD', 'startTime': '2024-07-03T12:20:00Z', 'demand': 26826}, {'recordType': 'VD', 'startTime': '2024-07-03T12:25:00Z', 'demand': 26825}, {'recordType': 'VD', 'startTime': '2024-07-03T12:30:00Z', 'demand': 26881}, {'recordType': 'VD', 'startTime': '2024-07-03T12:35:00Z', 'demand': 26896}, {'recordType': 'VD', 'startTime': '2024-07-03T12:40:00Z', 'demand': 26850}, {'recordType': 'VD', 'startTime': '2024-07-03T12:45:00Z', 'demand': 26826}, {'recordType': 'VD', 'startTime': '2024-07-03T12:50:00Z', 'demand': 26845}, {'recordType': 'VD', 'startTime': '2024-07-03T12:55:00Z', 'demand': 26831}, {'recordType': 'VD', 'startTime': '2024-07-03T13:00:00Z', 'demand': 26709}, {'recordType': 'VD', 'startTime': '2024-07-03T13:05:00Z', 'demand': 26680}, {'recordType': 'VD', 'startTime': '2024-07-03T13:10:00Z', 'demand': 26775}, {'recordType': 'VD', 'startTime': '2024-07-03T13:15:00Z', 'demand': 26918}, {'recordType': 'VD', 'startTime': '2024-07-03T13:20:00Z', 'demand': 27040}, {'recordType': 'VD', 'startTime': '2024-07-03T13:25:00Z', 'demand': 27188}, {'recordType': 'VD', 'startTime': '2024-07-03T13:30:00Z', 'demand': 27372}, {'recordType': 'VD', 'startTime': '2024-07-03T13:35:00Z', 'demand': 27459}, {'recordType': 'VD', 'startTime': '2024-07-03T13:40:00Z', 'demand': 27366}, {'recordType': 'VD', 'startTime': '2024-07-03T13:45:00Z', 'demand': 27327}, {'recordType': 'VD', 'startTime': '2024-07-03T13:50:00Z', 'demand': 27187}, {'recordType': 'VD', 'startTime': '2024-07-03T13:55:00Z', 'demand': 27020}, {'recordType': 'VD', 'startTime': '2024-07-03T14:00:00Z', 'demand': 26970}, {'recordType': 'VD', 'startTime': '2024-07-03T14:05:00Z', 'demand': 26866}, {'recordType': 'VD', 'startTime': '2024-07-03T14:10:00Z', 'demand': 26619}, {'recordType': 'VD', 'startTime': '2024-07-03T14:15:00Z', 'demand': 26476}, {'recordType': 'VD', 'startTime': '2024-07-03T14:20:00Z', 'demand': 26451}, {'recordType': 'VD', 'startTime': '2024-07-03T14:25:00Z', 'demand': 26506}, {'recordType': 'VD', 'startTime': '2024-07-03T14:30:00Z', 'demand': 26597}, {'recordType': 'VD', 'startTime': '2024-07-03T14:35:00Z', 'demand': 26829}, {'recordType': 'VD', 'startTime': '2024-07-03T14:40:00Z', 'demand': 26959}, {'recordType': 'VD', 'startTime': '2024-07-03T14:45:00Z', 'demand': 26999}, {'recordType': 'VD', 'startTime': '2024-07-03T14:50:00Z', 'demand': 26901}, {'recordType': 'VD', 'startTime': '2024-07-03T14:55:00Z', 'demand': 26662}, {'recordType': 'VD', 'startTime': '2024-07-03T15:00:00Z', 'demand': 26512}, {'recordType': 'VD', 'startTime': '2024-07-03T15:05:00Z', 'demand': 26552}, {'recordType': 'VD', 'startTime': '2024-07-03T15:10:00Z', 'demand': 27018}, {'recordType': 'VD', 'startTime': '2024-07-03T15:15:00Z', 'demand': 27362}, {'recordType': 'VD', 'startTime': '2024-07-03T15:20:00Z', 'demand': 27432}, {'recordType': 'VD', 'startTime': '2024-07-03T15:25:00Z', 'demand': 27508}, {'recordType': 'VD', 'startTime': '2024-07-03T15:30:00Z', 'demand': 27610}, {'recordType': 'VD', 'startTime': '2024-07-03T15:35:00Z', 'demand': 27742}, {'recordType': 'VD', 'startTime': '2024-07-03T15:40:00Z', 'demand': 27865}, {'recordType': 'VD', 'startTime': '2024-07-03T15:45:00Z', 'demand': 28127}, {'recordType': 'VD', 'startTime': '2024-07-03T15:50:00Z', 'demand': 28274}, {'recordType': 'VD', 'startTime': '2024-07-03T15:55:00Z', 'demand': 28306}, {'recordType': 'VD', 'startTime': '2024-07-03T16:00:00Z', 'demand': 28183}, {'recordType': 'VD', 'startTime': '2024-07-03T16:05:00Z', 'demand': 28307}, {'recordType': 'VD', 'startTime': '2024-07-03T16:10:00Z', 'demand': 28530}, {'recordType': 'VD', 'startTime': '2024-07-03T16:15:00Z', 'demand': 28605}, {'recordType': 'VD', 'startTime': '2024-07-03T16:20:00Z', 'demand': 28563}, {'recordType': 'VD', 'startTime': '2024-07-03T16:25:00Z', 'demand': 28667}, {'recordType': 'VD', 'startTime': '2024-07-03T16:30:00Z', 'demand': 28651}, {'recordType': 'VD', 'startTime': '2024-07-03T16:35:00Z', 'demand': 28578}, {'recordType': 'VD', 'startTime': '2024-07-03T16:40:00Z', 'demand': 28592}, {'recordType': 'VD', 'startTime': '2024-07-03T16:45:00Z', 'demand': 28611}, {'recordType': 'VD', 'startTime': '2024-07-03T16:50:00Z', 'demand': 28605}, {'recordType': 'VD', 'startTime': '2024-07-03T16:55:00Z', 'demand': 28890}, {'recordType': 'VD', 'startTime': '2024-07-03T17:00:00Z', 'demand': 28782}, {'recordType': 'VD', 'startTime': '2024-07-03T17:05:00Z', 'demand': 28738}, {'recordType': 'VD', 'startTime': '2024-07-03T17:10:00Z', 'demand': 28780}, {'recordType': 'VD', 'startTime': '2024-07-03T17:15:00Z', 'demand': 28856}, {'recordType': 'VD', 'startTime': '2024-07-03T17:20:00Z', 'demand': 28846}, {'recordType': 'VD', 'startTime': '2024-07-03T17:25:00Z', 'demand': 28837}, {'recordType': 'VD', 'startTime': '2024-07-03T17:30:00Z', 'demand': 28889}, {'recordType': 'VD', 'startTime': '2024-07-03T17:35:00Z', 'demand': 29020}, {'recordType': 'VD', 'startTime': '2024-07-03T17:40:00Z', 'demand': 29131}, {'recordType': 'VD', 'startTime': '2024-07-03T17:45:00Z', 'demand': 29124}, {'recordType': 'VD', 'startTime': '2024-07-03T17:50:00Z', 'demand': 29001}, {'recordType': 'VD', 'startTime': '2024-07-03T17:55:00Z', 'demand': 28947}, {'recordType': 'VD', 'startTime': '2024-07-03T18:00:00Z', 'demand': 28899}, {'recordType': 'VD', 'startTime': '2024-07-03T18:05:00Z', 'demand': 28846}, {'recordType': 'VD', 'startTime': '2024-07-03T18:10:00Z', 'demand': 28824}, {'recordType': 'VD', 'startTime': '2024-07-03T18:15:00Z', 'demand': 28820}, {'recordType': 'VD', 'startTime': '2024-07-03T18:20:00Z', 'demand': 28851}, {'recordType': 'VD', 'startTime': '2024-07-03T18:25:00Z', 'demand': 28862}, {'recordType': 'VD', 'startTime': '2024-07-03T18:30:00Z', 'demand': 28805}, {'recordType': 'VD', 'startTime': '2024-07-03T18:35:00Z', 'demand': 28856}, {'recordType': 'VD', 'startTime': '2024-07-03T18:40:00Z', 'demand': 29020}, {'recordType': 'VD', 'startTime': '2024-07-03T18:45:00Z', 'demand': 29069}, {'recordType': 'VD', 'startTime': '2024-07-03T18:50:00Z', 'demand': 29040}, {'recordType': 'VD', 'startTime': '2024-07-03T18:55:00Z', 'demand': 29027}, {'recordType': 'VD', 'startTime': '2024-07-03T19:00:00Z', 'demand': 28923}, {'recordType': 'VD', 'startTime': '2024-07-03T19:05:00Z', 'demand': 28853}, {'recordType': 'VD', 'startTime': '2024-07-03T19:10:00Z', 'demand': 28805}, {'recordType': 'VD', 'startTime': '2024-07-03T19:15:00Z', 'demand': 28830}, {'recordType': 'VD', 'startTime': '2024-07-03T19:20:00Z', 'demand': 28888}, {'recordType': 'VD', 'startTime': '2024-07-03T19:25:00Z', 'demand': 28791}, {'recordType': 'VD', 'startTime': '2024-07-03T19:30:00Z', 'demand': 28712}, {'recordType': 'VD', 'startTime': '2024-07-03T19:35:00Z', 'demand': 28583}, {'recordType': 'VD', 'startTime': '2024-07-03T19:40:00Z', 'demand': 28507}, {'recordType': 'VD', 'startTime': '2024-07-03T19:45:00Z', 'demand': 28380}, {'recordType': 'VD', 'startTime': '2024-07-03T19:50:00Z', 'demand': 28376}, {'recordType': 'VD', 'startTime': '2024-07-03T19:55:00Z', 'demand': 28391}, {'recordType': 'VD', 'startTime': '2024-07-03T20:00:00Z', 'demand': 28317}, {'recordType': 'VD', 'startTime': '2024-07-03T20:05:00Z', 'demand': 28198}, {'recordType': 'VD', 'startTime': '2024-07-03T20:10:00Z', 'demand': 28217}, {'recordType': 'VD', 'startTime': '2024-07-03T20:15:00Z', 'demand': 28175}, {'recordType': 'VD', 'startTime': '2024-07-03T20:20:00Z', 'demand': 27965}, {'recordType': 'VD', 'startTime': '2024-07-03T20:25:00Z', 'demand': 27828}, {'recordType': 'VD', 'startTime': '2024-07-03T20:30:00Z', 'demand': 27590}, {'recordType': 'VD', 'startTime': '2024-07-03T20:35:00Z', 'demand': 27369}, {'recordType': 'VD', 'startTime': '2024-07-03T20:40:00Z', 'demand': 27281}, {'recordType': 'VD', 'startTime': '2024-07-03T20:45:00Z', 'demand': 27176}, {'recordType': 'VD', 'startTime': '2024-07-03T20:50:00Z', 'demand': 26992}, {'recordType': 'VD', 'startTime': '2024-07-03T20:55:00Z', 'demand': 26875}, {'recordType': 'VD', 'startTime': '2024-07-03T21:00:00Z', 'demand': 26758}, {'recordType': 'VD', 'startTime': '2024-07-03T21:05:00Z', 'demand': 26528}, {'recordType': 'VD', 'startTime': '2024-07-03T21:10:00Z', 'demand': 26452}, {'recordType': 'VD', 'startTime': '2024-07-03T21:15:00Z', 'demand': 26582}, {'recordType': 'VD', 'startTime': '2024-07-03T21:20:00Z', 'demand': 26574}, {'recordType': 'VD', 'startTime': '2024-07-03T21:25:00Z', 'demand': 26514}, {'recordType': 'VD', 'startTime': '2024-07-03T21:30:00Z', 'demand': 26411}, {'recordType': 'VD', 'startTime': '2024-07-03T21:35:00Z', 'demand': 26235}, {'recordType': 'VD', 'startTime': '2024-07-03T21:40:00Z', 'demand': 26118}, {'recordType': 'VD', 'startTime': '2024-07-03T21:45:00Z', 'demand': 26033}, {'recordType': 'VD', 'startTime': '2024-07-03T21:50:00Z', 'demand': 25882}, {'recordType': 'VD', 'startTime': '2024-07-03T21:55:00Z', 'demand': 25491}, {'recordType': 'VD', 'startTime': '2024-07-03T22:00:00Z', 'demand': 25195}, {'recordType': 'VD', 'startTime': '2024-07-03T22:05:00Z', 'demand': 25319}, {'recordType': 'VD', 'startTime': '2024-07-03T22:10:00Z', 'demand': 25217}, {'recordType': 'VD', 'startTime': '2024-07-03T22:15:00Z', 'demand': 25041}, {'recordType': 'VD', 'startTime': '2024-07-03T22:20:00Z', 'demand': 24874}, {'recordType': 'VD', 'startTime': '2024-07-03T22:25:00Z', 'demand': 24803}, {'recordType': 'VD', 'startTime': '2024-07-03T22:30:00Z', 'demand': 24766}, {'recordType': 'VD', 'startTime': '2024-07-03T22:35:00Z', 'demand': 24870}, {'recordType': 'VD', 'startTime': '2024-07-03T22:40:00Z', 'demand': 24801}, {'recordType': 'VD', 'startTime': '2024-07-03T22:45:00Z', 'demand': 24685}, {'recordType': 'VD', 'startTime': '2024-07-03T22:50:00Z', 'demand': 24657}, {'recordType': 'VD', 'startTime': '2024-07-03T22:55:00Z', 'demand': 24443}, {'recordType': 'VD', 'startTime': '2024-07-03T23:00:00Z', 'demand': 24550}, {'recordType': 'VD', 'startTime': '2024-07-03T23:05:00Z', 'demand': 24558}, {'recordType': 'VD', 'startTime': '2024-07-03T23:10:00Z', 'demand': 24476}, {'recordType': 'VD', 'startTime': '2024-07-03T23:15:00Z', 'demand': 24422}, {'recordType': 'VD', 'startTime': '2024-07-03T23:20:00Z', 'demand': 24327}, {'recordType': 'VD', 'startTime': '2024-07-03T23:25:00Z', 'demand': 24128}, {'recordType': 'VD', 'startTime': '2024-07-03T23:30:00Z', 'demand': 23952}, {'recordType': 'VD', 'startTime': '2024-07-03T23:35:00Z', 'demand': 23888}, {'recordType': 'VD', 'startTime': '2024-07-03T23:40:00Z', 'demand': 23874}, {'recordType': 'VD', 'startTime': '2024-07-03T23:45:00Z', 'demand': 23756}, {'recordType': 'VD', 'startTime': '2024-07-03T23:50:00Z', 'demand': 23636}, {'recordType': 'VD', 'startTime': '2024-07-03T23:55:00Z', 'demand': 23517}, {'recordType': 'VD', 'startTime': '2024-07-04T00:00:00Z', 'demand': 23429}, {'recordType': 'VD', 'startTime': '2024-07-04T00:05:00Z', 'demand': 23338}, {'recordType': 'VD', 'startTime': '2024-07-04T00:10:00Z', 'demand': 23292}, {'recordType': 'VD', 'startTime': '2024-07-04T00:15:00Z', 'demand': 23279}, {'recordType': 'VD', 'startTime': '2024-07-04T00:20:00Z', 'demand': 23278}, {'recordType': 'VD', 'startTime': '2024-07-04T00:25:00Z', 'demand': 23227}, {'recordType': 'VD', 'startTime': '2024-07-04T00:30:00Z', 'demand': 23122}, {'recordType': 'VD', 'startTime': '2024-07-04T00:35:00Z', 'demand': 23088}, {'recordType': 'VD', 'startTime': '2024-07-04T00:40:00Z', 'demand': 22906}, {'recordType': 'VD', 'startTime': '2024-07-04T00:45:00Z', 'demand': 22822}, {'recordType': 'VD', 'startTime': '2024-07-04T00:50:00Z', 'demand': 22912}, {'recordType': 'VD', 'startTime': '2024-07-04T00:55:00Z', 'demand': 23140}, {'recordType': 'VD', 'startTime': '2024-07-04T01:00:00Z', 'demand': 23555}, {'recordType': 'VD', 'startTime': '2024-07-04T01:05:00Z', 'demand': 23758}, {'recordType': 'VD', 'startTime': '2024-07-04T01:10:00Z', 'demand': 23751}, {'recordType': 'VD', 'startTime': '2024-07-04T01:15:00Z', 'demand': 23663}, {'recordType': 'VD', 'startTime': '2024-07-04T01:20:00Z', 'demand': 23506}]}\n",
            "Fetching data from 2024-01-01 00:00:00 to 2024-01-06 23:59:59\n",
            "Fetching data from 2024-01-07 00:00:00 to 2024-01-12 23:59:59\n",
            "Fetching data from 2024-01-13 00:00:00 to 2024-01-18 23:59:59\n",
            "Fetching data from 2024-01-19 00:00:00 to 2024-01-24 23:59:59\n",
            "Fetching data from 2024-01-25 00:00:00 to 2024-01-30 23:59:59\n",
            "Fetching data from 2024-01-31 00:00:00 to 2024-02-05 23:59:59\n",
            "Fetching data from 2024-02-06 00:00:00 to 2024-02-11 23:59:59\n",
            "Fetching data from 2024-02-12 00:00:00 to 2024-02-17 23:59:59\n",
            "Fetching data from 2024-02-18 00:00:00 to 2024-02-23 23:59:59\n",
            "Fetching data from 2024-02-24 00:00:00 to 2024-02-29 23:59:59\n",
            "Fetching data from 2024-03-01 00:00:00 to 2024-03-06 23:59:59\n",
            "Fetching data from 2024-03-07 00:00:00 to 2024-03-12 23:59:59\n",
            "Fetching data from 2024-03-13 00:00:00 to 2024-03-18 23:59:59\n",
            "Fetching data from 2024-03-19 00:00:00 to 2024-03-24 23:59:59\n",
            "Fetching data from 2024-03-25 00:00:00 to 2024-03-30 23:59:59\n",
            "Columns in DataFrame: Index(['recordType', 'startTime', 'demand'], dtype='object')\n",
            "Sample data:   recordType             startTime  demand\n",
            "0         VD  2024-07-02T01:30:00Z   23151\n",
            "1         VD  2024-07-02T01:35:00Z   23033\n",
            "2         VD  2024-07-02T01:40:00Z   22908\n",
            "3         VD  2024-07-02T01:45:00Z   22847\n",
            "4         VD  2024-07-02T01:50:00Z   22740\n",
            "DataFrame of total generation outturn:\n",
            "                    startTime  demand\n",
            "0   2024-07-02 01:30:00+00:00   23151\n",
            "1   2024-07-02 01:35:00+00:00   23033\n",
            "2   2024-07-02 01:40:00+00:00   22908\n",
            "3   2024-07-02 01:45:00+00:00   22847\n",
            "4   2024-07-02 01:50:00+00:00   22740\n",
            "..                        ...     ...\n",
            "570 2024-07-04 01:00:00+00:00   23555\n",
            "571 2024-07-04 01:05:00+00:00   23758\n",
            "572 2024-07-04 01:10:00+00:00   23751\n",
            "573 2024-07-04 01:15:00+00:00   23663\n",
            "574 2024-07-04 01:20:00+00:00   23506\n",
            "\n",
            "[575 rows x 2 columns]\n",
            "Total Generation Outturn from 2024-01-01 to 2024-03-31: 14791312\n"
          ]
        }
      ]
    },
    {
      "cell_type": "code",
      "source": [],
      "metadata": {
        "id": "mU6piXwWdPOK"
      },
      "execution_count": null,
      "outputs": []
    }
  ]
}